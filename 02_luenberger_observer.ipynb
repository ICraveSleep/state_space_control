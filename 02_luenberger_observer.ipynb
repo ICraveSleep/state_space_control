{
 "cells": [
  {
   "cell_type": "markdown",
   "source": [
    "# Luenberger State Observer"
   ],
   "metadata": {
    "collapsed": false
   }
  },
  {
   "cell_type": "code",
   "execution_count": 82,
   "outputs": [],
   "source": [
    "import numpy as np\n",
    "import matplotlib.pyplot as plt\n",
    "import control"
   ],
   "metadata": {
    "collapsed": false
   }
  },
  {
   "cell_type": "markdown",
   "source": [
    "Using System from 01"
   ],
   "metadata": {
    "collapsed": false
   }
  },
  {
   "cell_type": "code",
   "execution_count": 83,
   "outputs": [],
   "source": [
    "A = np.matrix('0 1; 2 -1')\n",
    "B = np.matrix(\"1; 0\")\n",
    "C = np.matrix(\"1 0\")\n",
    "D = 0\n",
    "sys = control.ss(A, B, C, D)  # Creating the state space object"
   ],
   "metadata": {
    "collapsed": false
   }
  },
  {
   "cell_type": "markdown",
   "source": [
    "First check is the system is observable"
   ],
   "metadata": {
    "collapsed": false
   }
  },
  {
   "cell_type": "code",
   "execution_count": 84,
   "outputs": [
    {
     "name": "stdout",
     "output_type": "stream",
     "text": [
      "The system is observable.\n"
     ]
    }
   ],
   "source": [
    "# Check system observability\n",
    "observability_matrix = control.obsv(A, C)\n",
    "observability_rank = np.linalg.matrix_rank(observability_matrix)\n",
    "states = A.shape[0]\n",
    "\n",
    "if observability_rank == states:\n",
    "    print(\"The system is observable.\")\n",
    "else:\n",
    "    print(\"The system is not observable. Cannot design observer.\")"
   ],
   "metadata": {
    "collapsed": false
   }
  },
  {
   "cell_type": "code",
   "execution_count": 85,
   "outputs": [
    {
     "name": "stdout",
     "output_type": "stream",
     "text": [
      "Fastest system pole: -2.0\n",
      "Observer feedback gains, L=[16.0, 52.0]\n"
     ]
    }
   ],
   "source": [
    "# Get the fastest pole of System\n",
    "fast_pole = max(abs(control.poles(sys)))\n",
    "print(f\"Fastest system pole: {-fast_pole}\")\n",
    "observer_poles = [-3*fast_pole, -3*fast_pole-5]  # Multiplying with a negative number since abs from fastest pole give unstable pole\n",
    "L = control.place(A.T, C.T, observer_poles)  # .T transposes the matrices\n",
    "print(f\"Observer feedback gains, L=[{round(L[0][0],2)}, {round(L[0][1], 2)}]\")"
   ],
   "metadata": {
    "collapsed": false
   }
  },
  {
   "cell_type": "markdown",
   "source": [
    "Creating the Observer"
   ],
   "metadata": {
    "collapsed": false
   }
  },
  {
   "cell_type": "code",
   "execution_count": 99,
   "outputs": [
    {
     "name": "stdout",
     "output_type": "stream",
     "text": [
      "[[ 1. 16.]\n",
      " [ 0. 52.]]\n"
     ]
    }
   ],
   "source": [
    "Aobs = A-L.T@C  # @ sign means matrix multiplication in Python\n",
    "Bobs = np.concatenate((B, L.T), axis=1)  # Merge similar to C = [A B]\n",
    "print(Bobs)"
   ],
   "metadata": {
    "collapsed": false
   }
  },
  {
   "cell_type": "code",
   "execution_count": null,
   "outputs": [],
   "source": [],
   "metadata": {
    "collapsed": false
   }
  }
 ],
 "metadata": {
  "kernelspec": {
   "display_name": "Python 3",
   "language": "python",
   "name": "python3"
  },
  "language_info": {
   "codemirror_mode": {
    "name": "ipython",
    "version": 2
   },
   "file_extension": ".py",
   "mimetype": "text/x-python",
   "name": "python",
   "nbconvert_exporter": "python",
   "pygments_lexer": "ipython2",
   "version": "2.7.6"
  }
 },
 "nbformat": 4,
 "nbformat_minor": 0
}
