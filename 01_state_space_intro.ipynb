{
 "cells": [
  {
   "cell_type": "markdown",
   "source": [
    "# State Space"
   ],
   "metadata": {
    "collapsed": false
   }
  },
  {
   "cell_type": "code",
   "execution_count": 47,
   "outputs": [],
   "source": [
    "import numpy as np\n",
    "# from scipy import signal\n",
    "import matplotlib.pyplot as plt\n",
    "import control"
   ],
   "metadata": {
    "collapsed": false
   }
  },
  {
   "cell_type": "markdown",
   "source": [
    "State equation:  $ \\mathbf{\\dot x(t)} = \\mathbf{A} \\mathbf{x(t)} = \\mathbf{B}\\mathbf{u(t)} $\n",
    "\n",
    "Output equation: $ \\mathbf{y(t)} = \\mathbf{C} \\mathbf{x(t)} = \\mathbf{D}\\mathbf{u(t)} $\n",
    "\n",
    "Define state matrices"
   ],
   "metadata": {
    "collapsed": false
   }
  },
  {
   "cell_type": "code",
   "execution_count": 48,
   "outputs": [],
   "source": [
    "A = np.matrix('0 1; 2 -1')\n",
    "B = np.matrix(\"1; 0\")\n",
    "C = np.matrix(\"1 0\")\n",
    "D = 0\n",
    "sys = control.ss(A, B, C, D)  # Creating the state space object\n",
    "eig = np.linalg.eigvals(A)\n",
    "print(f\"The eigenvalues to the system matrix A is: k_1={eig[0]}, and k_2={eig[1]}\")"
   ],
   "metadata": {
    "collapsed": false
   }
  },
  {
   "cell_type": "markdown",
   "source": [
    "Desired close loop eigen values: $P=[-2, -1]$"
   ],
   "metadata": {
    "collapsed": false
   }
  },
  {
   "cell_type": "code",
   "execution_count": 49,
   "outputs": [],
   "source": [
    "P = [-2, -1]\n",
    "\n",
    "# Solve for K using pole placement\n",
    "K = control.place(A, B, P)\n",
    "print(K)"
   ],
   "metadata": {
    "collapsed": false
   }
  },
  {
   "cell_type": "code",
   "execution_count": 50,
   "outputs": [],
   "source": [
    "# Acl = A - np.matmul(B, K)  # Both methods work\n",
    "Acl = A -B*K\n",
    "Ecl = np.linalg.eigvals(Acl)\n",
    "print(Ecl)"
   ],
   "metadata": {
    "collapsed": false
   }
  },
  {
   "cell_type": "markdown",
   "source": [
    "Plotting the open loop step response"
   ],
   "metadata": {
    "collapsed": false
   }
  },
  {
   "cell_type": "code",
   "execution_count": 51,
   "outputs": [],
   "source": [
    "t = np.linspace(0, 60, 1000)  # Time points from 0 to 60 seconds\n",
    "# t = np.arange(0, 60, 0.1)  # Time points from 0 to 60 seconds with a step size of 0.1\n",
    "\n",
    "t, y = control.step_response(sys, T=t)\n",
    "\n",
    "plt.plot(t, y)\n",
    "plt.xlabel('Time')\n",
    "plt.ylabel('Amplitude')\n",
    "plt.title('Step Response of the Open Loop System')\n",
    "plt.grid(True)\n",
    "plt.show()"
   ],
   "metadata": {
    "collapsed": false
   }
  },
  {
   "cell_type": "markdown",
   "source": [
    "Plotting the closed loop step response"
   ],
   "metadata": {
    "collapsed": false
   }
  },
  {
   "cell_type": "code",
   "execution_count": 52,
   "outputs": [],
   "source": [
    "syscl = control.ss(Acl, B, C, D)\n",
    "\n",
    "t = np.linspace(0, 5, 1000)  # Time points from 0 to 60 seconds\n",
    "t, y =control.step_response(syscl, T=t)\n",
    "\n",
    "plt.plot(t, y)\n",
    "plt.xlabel('Time')\n",
    "plt.ylabel('Amplitude')\n",
    "plt.title('Step Response of the Closed Loop System')\n",
    "plt.grid(True)\n",
    "plt.show()"
   ],
   "metadata": {
    "collapsed": false
   }
  },
  {
   "cell_type": "markdown",
   "source": [
    "Can see that from the step response, that the system is stable. However, instead of reaching the impulse value of 1, the step response only reaches 0.5. In order to solve this the scaling factor is determined.\n",
    "\n",
    "To find the DC gain (also known as the steady-state gain or the gain at low frequencies) of the closed-loop system, the following is performed. Since it is the steady state gain, the last value of the step response can simply be used. To get a better estimation of the steady-state gain the step response in run for a longer time period."
   ],
   "metadata": {
    "collapsed": false
   }
  },
  {
   "cell_type": "code",
   "execution_count": 53,
   "outputs": [],
   "source": [
    "t = np.linspace(0, 300, 1000)  # Time points from 0 to 60 seconds\n",
    "t, y = control.step_response(syscl, T=t)\n",
    "dcgain = y[-1]\n",
    "print(dcgain)"
   ],
   "metadata": {
    "collapsed": false
   }
  },
  {
   "cell_type": "code",
   "execution_count": 54,
   "outputs": [],
   "source": [
    "Kr = 1/dcgain\n",
    "print(f\"Scaling gain Kr={Kr}\")"
   ],
   "metadata": {
    "collapsed": false
   }
  },
  {
   "cell_type": "markdown",
   "source": [
    "Plotting the scaled closed loop system step response"
   ],
   "metadata": {
    "collapsed": false
   }
  },
  {
   "cell_type": "code",
   "execution_count": 55,
   "outputs": [],
   "source": [
    "syscl_scaled = control.ss(Acl, B*Kr, C, D)\n",
    "t = np.linspace(0, 5, 1000)  # Time points from 0 to 60 seconds\n",
    "t, y = control.step_response(syscl_scaled, T=t)\n",
    "\n",
    "plt.plot(t, y)\n",
    "plt.xlabel('Time')\n",
    "plt.ylabel('Amplitude')\n",
    "plt.title('Step Response of the Closed Loop System')\n",
    "plt.grid(True)\n",
    "plt.show()"
   ],
   "metadata": {
    "collapsed": false
   }
  }
 ],
 "metadata": {
  "kernelspec": {
   "display_name": "Python 3",
   "language": "python",
   "name": "python3"
  },
  "language_info": {
   "codemirror_mode": {
    "name": "ipython",
    "version": 2
   },
   "file_extension": ".py",
   "mimetype": "text/x-python",
   "name": "python",
   "nbconvert_exporter": "python",
   "pygments_lexer": "ipython2",
   "version": "2.7.6"
  }
 },
 "nbformat": 4,
 "nbformat_minor": 0
}
