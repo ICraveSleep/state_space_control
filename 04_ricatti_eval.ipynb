{
 "cells": [
  {
   "cell_type": "code",
   "execution_count": 22,
   "metadata": {
    "collapsed": true,
    "ExecuteTime": {
     "end_time": "2023-07-12T19:10:14.792493900Z",
     "start_time": "2023-07-12T19:10:14.780525800Z"
    }
   },
   "outputs": [],
   "source": [
    "import numpy as np\n",
    "import matplotlib.pyplot as plt\n",
    "import control\n",
    "import scipy"
   ]
  },
  {
   "cell_type": "markdown",
   "source": [
    "Create the following system"
   ],
   "metadata": {
    "collapsed": false
   }
  },
  {
   "cell_type": "code",
   "execution_count": 23,
   "outputs": [
    {
     "name": "stdout",
     "output_type": "stream",
     "text": [
      "LQR gain: [[0.87762996 0.05744141]]\n"
     ]
    }
   ],
   "source": [
    "# system matrices\n",
    "A = np.matrix('0 1; -2 -1.5')\n",
    "B = np.matrix(\"1; 0\")\n",
    "C = np.matrix(\"1 0\")\n",
    "D = 0\n",
    "\n",
    "# weighting matrices\n",
    "Q = np.matrix('1 0; 0 1')  # weight for states\n",
    "R = np.matrix('1')  # weight for input\n",
    "\n",
    "# calculate the LQR gain\n",
    "K, S, E = control.lqr(A, B, Q, R)\n",
    "\n",
    "print(\"LQR gain:\", K)"
   ],
   "metadata": {
    "collapsed": false,
    "ExecuteTime": {
     "end_time": "2023-07-12T19:10:14.794487900Z",
     "start_time": "2023-07-12T19:10:14.789501700Z"
    }
   }
  },
  {
   "cell_type": "markdown",
   "source": [
    "$$\n",
    "K=R^{−1} B^T P\n",
    "$$"
   ],
   "metadata": {
    "collapsed": false
   }
  },
  {
   "cell_type": "code",
   "execution_count": 24,
   "outputs": [
    {
     "name": "stdout",
     "output_type": "stream",
     "text": [
      "LQR gain: [[0.87762996 0.05744141]]\n"
     ]
    }
   ],
   "source": [
    "# Trying with evaluation\n",
    "\n",
    "# solve the Riccati equation\n",
    "P = scipy.linalg.solve_continuous_are(A, B, Q, R)\n",
    "\n",
    "# calculate the LQR gain\n",
    "K_are = np.linalg.inv(R) @ B.T @ P\n",
    "\n",
    "print(\"LQR gain:\", K_are)"
   ],
   "metadata": {
    "collapsed": false,
    "ExecuteTime": {
     "end_time": "2023-07-12T19:10:14.855807100Z",
     "start_time": "2023-07-12T19:10:14.796484800Z"
    }
   }
  },
  {
   "cell_type": "code",
   "execution_count": 25,
   "outputs": [
    {
     "name": "stdout",
     "output_type": "stream",
     "text": [
      "[[0. 0.]\n",
      " [0. 0.]]\n"
     ]
    }
   ],
   "source": [
    "# Test Hamiltonian matrix\n",
    "\n",
    "def solve_continuous_are(A_, B_, Q_, R_):\n",
    "    n = A_.shape[0]\n",
    "\n",
    "    # Hamiltonian matrix\n",
    "    H_ = np.block([[A_, -B_ @ np.linalg.inv(R_) @ B_.T], [-Q_, -A_.T]])\n",
    "\n",
    "    # Compute the eigenvalues and right eigenvectors\n",
    "    eigvals, eigvecs = scipy.linalg.eig(H_)\n",
    "\n",
    "    # Find the stable eigenvector\n",
    "    idx = np.abs(eigvals.real) < 1e-6\n",
    "    P_vec = eigvecs[:n, idx]\n",
    "\n",
    "    # Reshape the stable eigenvector to form P\n",
    "    P_ = np.real(P_vec @ P_vec.T)\n",
    "\n",
    "    return P_\n",
    "\n",
    "\n",
    "P_custom = solve_continuous_are(A, B, Q, R)\n",
    "print(P_custom)\n"
   ],
   "metadata": {
    "collapsed": false,
    "ExecuteTime": {
     "end_time": "2023-07-12T19:10:14.856804Z",
     "start_time": "2023-07-12T19:10:14.801951500Z"
    }
   }
  },
  {
   "cell_type": "code",
   "execution_count": 25,
   "outputs": [],
   "source": [],
   "metadata": {
    "collapsed": false,
    "ExecuteTime": {
     "end_time": "2023-07-12T19:10:14.857801800Z",
     "start_time": "2023-07-12T19:10:14.810926600Z"
    }
   }
  }
 ],
 "metadata": {
  "kernelspec": {
   "display_name": "Python 3",
   "language": "python",
   "name": "python3"
  },
  "language_info": {
   "codemirror_mode": {
    "name": "ipython",
    "version": 2
   },
   "file_extension": ".py",
   "mimetype": "text/x-python",
   "name": "python",
   "nbconvert_exporter": "python",
   "pygments_lexer": "ipython2",
   "version": "2.7.6"
  }
 },
 "nbformat": 4,
 "nbformat_minor": 0
}
